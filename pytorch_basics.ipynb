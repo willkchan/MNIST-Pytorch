{
 "cells": [
  {
   "cell_type": "markdown",
   "source": [
    "go over pytorch tutorial from docs\n"
   ],
   "metadata": {
    "collapsed": false,
    "pycharm": {
     "name": "#%% md\n"
    }
   }
  },
  {
   "cell_type": "code",
   "execution_count": 11,
   "metadata": {
    "collapsed": true
   },
   "outputs": [],
   "source": [
    "import torch\n",
    "from torch import nn\n",
    "from torch.utils.data import DataLoader\n",
    "from torchvision import datasets\n",
    "from torchvision.transforms import ToTensor, Lambda, Compose\n",
    "import matplotlib.pyplot as plt\n",
    "import sys"
   ]
  },
  {
   "cell_type": "code",
   "execution_count": 12,
   "outputs": [],
   "source": [
    "# download training data from domain\n",
    "\n",
    "training_data = datasets.FashionMNIST(\n",
    "    root='data/',\n",
    "    train=True,\n",
    "    download=True,\n",
    "    transform=ToTensor(),\n",
    ")\n",
    "\n",
    "testing_data = datasets.FashionMNIST(\n",
    "    root='data/',\n",
    "    train=False,\n",
    "    download=True,\n",
    "    transform=ToTensor(),\n",
    ")"
   ],
   "metadata": {
    "collapsed": false,
    "pycharm": {
     "name": "#%%\n"
    }
   }
  },
  {
   "cell_type": "code",
   "execution_count": 13,
   "outputs": [
    {
     "name": "stdout",
     "output_type": "stream",
     "text": [
      "Shape of X [N, C, H, W]: torch.Size([64, 1, 28, 28])\n",
      "shape of y:  torch.Size([64]) torch.int64\n"
     ]
    }
   ],
   "source": [
    "batch_size= 64\n",
    "\n",
    "# create data loaders; used to make our datasets iterable of batch size\n",
    "train_dataloader = DataLoader(training_data, batch_size)\n",
    "test_dataloader = DataLoader(testing_data, batch_size)\n",
    "\n",
    "for X, y in test_dataloader:\n",
    "    print('Shape of X [N, C, H, W]:', X.shape)\n",
    "    print('shape of y: ', y.shape, y.dtype)\n",
    "    break"
   ],
   "metadata": {
    "collapsed": false,
    "pycharm": {
     "name": "#%%\n"
    }
   }
  },
  {
   "cell_type": "code",
   "execution_count": 14,
   "outputs": [
    {
     "name": "stdout",
     "output_type": "stream",
     "text": [
      "100000\n",
      "100000\n"
     ]
    }
   ],
   "source": [
    "print(sys.getrecursionlimit())\n",
    "sys.setrecursionlimit(100000)\n",
    "print(sys.getrecursionlimit())"
   ],
   "metadata": {
    "collapsed": false,
    "pycharm": {
     "name": "#%%\n"
    }
   }
  },
  {
   "cell_type": "code",
   "execution_count": 25,
   "outputs": [
    {
     "name": "stdout",
     "output_type": "stream",
     "text": [
      "NeuralNetwork(\n",
      "  (flatten): Flatten(start_dim=1, end_dim=-1)\n",
      "  (linear_relu_stack): Sequential(\n",
      "    (0): Linear(in_features=784, out_features=512, bias=True)\n",
      "    (1): ReLU()\n",
      "    (2): Linear(in_features=512, out_features=512, bias=True)\n",
      "    (3): ReLU()\n",
      "    (4): Linear(in_features=512, out_features=10, bias=True)\n",
      "    (5): ReLU()\n",
      "  )\n",
      ")\n"
     ]
    }
   ],
   "source": [
    "# creat models\n",
    "# device = \"cuda\" if torch.cuda.is_available() else \"cpu\"\n",
    "device = \"cpu\"\n",
    "# print(\"Using {} device\".format(device))\n",
    "# define model\n",
    "\n",
    "class NeuralNetwork(nn.Module):\n",
    "    def __init__(self):\n",
    "        super(NeuralNetwork, self).__init__()\n",
    "        self.flatten = nn.Flatten()\n",
    "        self.linear_relu_stack = nn.Sequential(\n",
    "            nn.Linear(28*28, 512),\n",
    "            nn.ReLU(),\n",
    "            nn.Linear(512, 512),\n",
    "            nn.ReLU(),\n",
    "            nn.Linear(512, 10),\n",
    "            nn.ReLU()\n",
    "        )\n",
    "\n",
    "    def forward(self, x):\n",
    "        x = self.flatten(x)\n",
    "        logits = self.linear_relu_stack(x)\n",
    "        return logits\n",
    "\n",
    "model = NeuralNetwork().to(device)\n",
    "print(model)"
   ],
   "metadata": {
    "collapsed": false,
    "pycharm": {
     "name": "#%%\n"
    }
   }
  },
  {
   "cell_type": "code",
   "execution_count": 16,
   "outputs": [],
   "source": [
    "# optmization and loss fn\n",
    "\n",
    "loss_fn = nn.CrossEntropyLoss()\n",
    "optimizer = torch.optim.SGD(model.parameters(), lr=1e-3)"
   ],
   "metadata": {
    "collapsed": false,
    "pycharm": {
     "name": "#%%\n"
    }
   }
  },
  {
   "cell_type": "code",
   "execution_count": 22,
   "outputs": [],
   "source": [
    "# make functions for running nn on our train and test\n",
    "# in the loop, teh model makes predictions from the training data (and each iteration will\n",
    "# be a batch of data), after predictions we backpropagate the prediction erros to adjust\n",
    "# the parameters\n",
    "\n",
    "def train(dataloader, model, loss_fn, optimizer):\n",
    "    size = len(dataloader.dataset)\n",
    "    for batch, (X,y) in enumerate(dataloader):\n",
    "        X, y = X.to(device), y.to(device)\n",
    "\n",
    "        # computer pred error\n",
    "        pred = model(X)\n",
    "        loss = loss_fn(pred, y)\n",
    "\n",
    "        # bp\n",
    "        optimizer.zero_grad()\n",
    "        loss.backward()\n",
    "        optimizer.step()\n",
    "\n",
    "        if batch % 100 == 0:\n",
    "            loss, current = loss.item(), batch * len(X)\n",
    "            print(f'loss: {loss:>7f} [{current:>5d}/{size:>5d}]')"
   ],
   "metadata": {
    "collapsed": false,
    "pycharm": {
     "name": "#%%\n"
    }
   }
  },
  {
   "cell_type": "code",
   "execution_count": 18,
   "outputs": [],
   "source": [
    "# can also check the models performacne against the dataset to ensure it is learning\n",
    "def test(dataloader, model):\n",
    "    size = len(dataloader.dataset)\n",
    "    model.eval()\n",
    "    test_loss, correct = 0, 0\n",
    "    with torch.no_grad():\n",
    "        for X, y in dataloader:\n",
    "            X, y = X.to(device), y.to(device)\n",
    "            pred = model(X)\n",
    "            test_loss += loss_fn(pred, y).item()\n",
    "            correct += (pred.argmax(1) == y).type(torch.float).sum().item()\n",
    "        test_loss /= size\n",
    "        correct /= size\n",
    "        print(f\"Test Error: \\n Accuracy: {(100*correct):>0.1f}%, Avg loss: {test_loss:>8f} \\n\")"
   ],
   "metadata": {
    "collapsed": false,
    "pycharm": {
     "name": "#%%\n"
    }
   }
  },
  {
   "cell_type": "code",
   "execution_count": 26,
   "outputs": [
    {
     "name": "stdout",
     "output_type": "stream",
     "text": [
      "Epoch 1\n",
      "-------------------------------\n",
      "loss: 2.299259  [    0/60000]\n",
      "loss: 2.299857  [ 6400/60000]\n",
      "loss: 2.304546  [12800/60000]\n",
      "loss: 2.311232  [19200/60000]\n",
      "loss: 2.295558  [25600/60000]\n",
      "loss: 2.308534  [32000/60000]\n",
      "loss: 2.303639  [38400/60000]\n",
      "loss: 2.303327  [44800/60000]\n",
      "loss: 2.301146  [51200/60000]\n",
      "loss: 2.308671  [57600/60000]\n",
      "Test Error: \n",
      " Accuracy: 15.2%, Avg loss: 0.036169 \n",
      "\n",
      "Epoch 2\n",
      "-------------------------------\n",
      "loss: 2.299259  [    0/60000]\n",
      "loss: 2.299857  [ 6400/60000]\n",
      "loss: 2.304546  [12800/60000]\n",
      "loss: 2.311232  [19200/60000]\n",
      "loss: 2.295558  [25600/60000]\n",
      "loss: 2.308534  [32000/60000]\n",
      "loss: 2.303639  [38400/60000]\n",
      "loss: 2.303327  [44800/60000]\n",
      "loss: 2.301146  [51200/60000]\n",
      "loss: 2.308671  [57600/60000]\n",
      "Test Error: \n",
      " Accuracy: 15.2%, Avg loss: 0.036169 \n",
      "\n",
      "Epoch 3\n",
      "-------------------------------\n",
      "loss: 2.299259  [    0/60000]\n",
      "loss: 2.299857  [ 6400/60000]\n",
      "loss: 2.304546  [12800/60000]\n",
      "loss: 2.311232  [19200/60000]\n",
      "loss: 2.295558  [25600/60000]\n",
      "loss: 2.308534  [32000/60000]\n",
      "loss: 2.303639  [38400/60000]\n",
      "loss: 2.303327  [44800/60000]\n",
      "loss: 2.301146  [51200/60000]\n",
      "loss: 2.308671  [57600/60000]\n",
      "Test Error: \n",
      " Accuracy: 15.2%, Avg loss: 0.036169 \n",
      "\n",
      "Epoch 4\n",
      "-------------------------------\n",
      "loss: 2.299259  [    0/60000]\n",
      "loss: 2.299857  [ 6400/60000]\n",
      "loss: 2.304546  [12800/60000]\n",
      "loss: 2.311232  [19200/60000]\n",
      "loss: 2.295558  [25600/60000]\n",
      "loss: 2.308534  [32000/60000]\n",
      "loss: 2.303639  [38400/60000]\n",
      "loss: 2.303327  [44800/60000]\n",
      "loss: 2.301146  [51200/60000]\n",
      "loss: 2.308671  [57600/60000]\n",
      "Test Error: \n",
      " Accuracy: 15.2%, Avg loss: 0.036169 \n",
      "\n",
      "Epoch 5\n",
      "-------------------------------\n",
      "loss: 2.299259  [    0/60000]\n",
      "loss: 2.299857  [ 6400/60000]\n",
      "loss: 2.304546  [12800/60000]\n",
      "loss: 2.311232  [19200/60000]\n",
      "loss: 2.295558  [25600/60000]\n",
      "loss: 2.308534  [32000/60000]\n",
      "loss: 2.303639  [38400/60000]\n",
      "loss: 2.303327  [44800/60000]\n",
      "loss: 2.301146  [51200/60000]\n",
      "loss: 2.308671  [57600/60000]\n",
      "Test Error: \n",
      " Accuracy: 15.2%, Avg loss: 0.036169 \n",
      "\n",
      "Done!\n"
     ]
    }
   ],
   "source": [
    "epochs = 5\n",
    "for t in range(epochs):\n",
    "    print(f\"Epoch {t+1}\\n-------------------------------\")\n",
    "    train(train_dataloader, model, loss_fn, optimizer)\n",
    "    test(test_dataloader, model)\n",
    "print(\"Done!\")"
   ],
   "metadata": {
    "collapsed": false,
    "pycharm": {
     "name": "#%%\n"
    }
   }
  },
  {
   "cell_type": "code",
   "execution_count": null,
   "outputs": [],
   "source": [
    "# save model\n",
    "\n",
    "# torch.save(model.state_dict(), 'models/tutorial_model')"
   ],
   "metadata": {
    "collapsed": false,
    "pycharm": {
     "name": "#%%\n"
    }
   }
  },
  {
   "cell_type": "code",
   "execution_count": null,
   "outputs": [],
   "source": [
    "# loading models\n",
    "\n",
    "# tmp = NeuralNetwork()\n",
    "# tmp.load_state_dict(torch.load('models/tutorial_model'))"
   ],
   "metadata": {
    "collapsed": false,
    "pycharm": {
     "name": "#%%\n"
    }
   }
  }
 ],
 "metadata": {
  "kernelspec": {
   "name": "pycharm-301d774e",
   "language": "python",
   "display_name": "PyCharm (API_Mini_Project)"
  },
  "language_info": {
   "codemirror_mode": {
    "name": "ipython",
    "version": 2
   },
   "file_extension": ".py",
   "mimetype": "text/x-python",
   "name": "python",
   "nbconvert_exporter": "python",
   "pygments_lexer": "ipython2",
   "version": "2.7.6"
  }
 },
 "nbformat": 4,
 "nbformat_minor": 0
}