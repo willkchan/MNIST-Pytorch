{
 "cells": [
  {
   "cell_type": "markdown",
   "source": [
    "### Practice using Pytorch with MNIST dataset\n",
    "### practice using covnet\n"
   ],
   "metadata": {
    "collapsed": false,
    "pycharm": {
     "name": "#%% md\n"
    }
   }
  },
  {
   "cell_type": "code",
   "execution_count": 23,
   "metadata": {
    "collapsed": true
   },
   "outputs": [],
   "source": [
    "import torch\n",
    "import torch.nn as nn\n",
    "from sklearn.model_selection import train_test_split\n",
    "from torch.autograd import Variable\n",
    "import numpy as np\n",
    "import pandas as pd\n",
    "import matplotlib.pyplot as plt\n",
    "\n",
    "import os"
   ]
  },
  {
   "cell_type": "code",
   "execution_count": 24,
   "outputs": [
    {
     "data": {
      "text/plain": "True"
     },
     "execution_count": 24,
     "metadata": {},
     "output_type": "execute_result"
    }
   ],
   "source": [
    "# check if we have cuda enabled\n",
    "torch.cuda.is_available()"
   ],
   "metadata": {
    "collapsed": false,
    "pycharm": {
     "name": "#%%\n"
    }
   }
  },
  {
   "cell_type": "code",
   "execution_count": 25,
   "outputs": [
    {
     "name": "stdout",
     "output_type": "stream",
     "text": [
      "['data', '.idea', '.gitignore', 'input', 'logistic_practice.ipynb', '.git', 'prac.ipynb', 'notebook.ipynb']\n"
     ]
    }
   ],
   "source": [
    "print(os.listdir('.'))"
   ],
   "metadata": {
    "collapsed": false,
    "pycharm": {
     "name": "#%%\n"
    }
   }
  },
  {
   "cell_type": "code",
   "execution_count": 26,
   "outputs": [],
   "source": [
    "# prepare datasets\n",
    "# load data\n",
    "train = pd.read_csv('data/train.csv', dtype=np.float32)\n",
    "\n",
    "# split data into pixels and labels  (our features are the pixels)\n",
    "targets_numpy = train['label'].values\n",
    "\n",
    "# features will be all categories except our target, and then standardize all values\n",
    "features_numpy = train.loc[:, train.columns != 'label'].values / 255\n",
    "\n",
    "X_train, X_test, y_train, y_test = train_test_split(features_numpy, targets_numpy, test_size=0.2, random_state=42)"
   ],
   "metadata": {
    "collapsed": false,
    "pycharm": {
     "name": "#%%\n"
    }
   }
  },
  {
   "cell_type": "code",
   "execution_count": 27,
   "outputs": [],
   "source": [
    "X_train_tensor = torch.from_numpy(X_train)\n",
    "# convert target to type long\n",
    "y_train_tensor = torch.from_numpy(y_train).type(torch.LongTensor)\n",
    "\n",
    "X_test_tensor = torch.from_numpy(X_test)\n",
    "y_test_tensor = torch.from_numpy(y_test).type(torch.LongTensor)"
   ],
   "metadata": {
    "collapsed": false,
    "pycharm": {
     "name": "#%%\n"
    }
   }
  },
  {
   "cell_type": "code",
   "execution_count": 36,
   "outputs": [],
   "source": [
    "\n",
    "\n",
    "# Create CNN Model\n",
    "class CNNModel(nn.Module):\n",
    "    def __init__(self):\n",
    "        super(CNNModel, self).__init__()\n",
    "\n",
    "        # Convolution 1\n",
    "        self.cnn1 = nn.Conv2d(in_channels=1, out_channels=16, kernel_size=5, stride=1, padding=0)\n",
    "        self.relu1 = nn.ReLU()\n",
    "\n",
    "        # Max pool 1\n",
    "        self.maxpool1 = nn.MaxPool2d(kernel_size=2)\n",
    "\n",
    "        # Convolution 2\n",
    "        self.cnn2 = nn.Conv2d(in_channels=16, out_channels=32, kernel_size=5, stride=1, padding=0)\n",
    "        self.relu2 = nn.ReLU()\n",
    "\n",
    "        # Max pool 2\n",
    "        self.maxpool2 = nn.MaxPool2d(kernel_size=2)\n",
    "\n",
    "        # Fully connected 1\n",
    "        self.fc1 = nn.Linear(32 * 4 * 4, 10)\n",
    "\n",
    "    def forward(self, x):\n",
    "        # Convolution 1\n",
    "        out = self.cnn1(x)\n",
    "        out = self.relu1(out)\n",
    "\n",
    "        # Max pool 1\n",
    "        out = self.maxpool1(out)\n",
    "\n",
    "        # Convolution 2\n",
    "        out = self.cnn2(out)\n",
    "        out = self.relu2(out)\n",
    "\n",
    "        # Max pool 2\n",
    "        out = self.maxpool2(out)\n",
    "\n",
    "        # flatten\n",
    "        out = out.view(out.size(0), -1)\n",
    "\n",
    "        # Linear function (readout)\n",
    "        out = self.fc1(out)\n",
    "\n",
    "        return out"
   ],
   "metadata": {
    "collapsed": false,
    "pycharm": {
     "name": "#%%\n"
    }
   }
  },
  {
   "cell_type": "code",
   "execution_count": 37,
   "outputs": [
    {
     "data": {
      "text/plain": "7"
     },
     "execution_count": 37,
     "metadata": {},
     "output_type": "execute_result"
    }
   ],
   "source": [
    "batch_size = 100\n",
    "n_iters = 2500\n",
    "epochs = int(n_iters / (len(X_train) / batch_size))\n",
    "epochs"
   ],
   "metadata": {
    "collapsed": false,
    "pycharm": {
     "name": "#%%\n"
    }
   }
  },
  {
   "cell_type": "code",
   "execution_count": 38,
   "outputs": [],
   "source": [
    "# pytorch train and test sets\n",
    "train = torch.utils.data.TensorDataset(X_train_tensor, y_train_tensor)\n",
    "test = torch.utils.data.TensorDataset(X_test_tensor, y_test_tensor)\n",
    "\n",
    "# dataloader\n",
    "\n",
    "train_loader = torch.utils.data.DataLoader(train, batch_size, shuffle=False)\n",
    "test_loader = torch.utils.data.DataLoader(test, batch_size, shuffle=False)"
   ],
   "metadata": {
    "collapsed": false,
    "pycharm": {
     "name": "#%%\n"
    }
   }
  },
  {
   "cell_type": "code",
   "execution_count": 40,
   "outputs": [],
   "source": [
    "# initialize model, error, and optimizer\n",
    "model = CNNModel()\n",
    "\n",
    "criterion = nn.CrossEntropyLoss()\n",
    "\n",
    "optimizer = torch.optim.SGD(model.parameters(), lr=0.1)"
   ],
   "metadata": {
    "collapsed": false,
    "pycharm": {
     "name": "#%%\n"
    }
   }
  },
  {
   "cell_type": "code",
   "execution_count": 42,
   "outputs": [
    {
     "name": "stdout",
     "output_type": "stream",
     "text": [
      "iteration 500 loss 0.09391464293003082 accuracy 96.94047546386719\n",
      "iteration 1000 loss 0.03574056550860405 accuracy 98.0\n",
      "iteration 1500 loss 0.025812659412622452 accuracy 98.0\n",
      "iteration 2000 loss 0.012040985748171806 accuracy 98.36904907226562\n"
     ]
    }
   ],
   "source": [
    "# Train model\n",
    "loss_list = []\n",
    "iterations = []\n",
    "accuracy = []\n",
    "count = 0\n",
    "for epoch in range(epochs):\n",
    "    for i, (images, labels) in enumerate(train_loader):\n",
    "        train = Variable(images.view(100, 1, 28, 28))\n",
    "        labels = Variable(labels)\n",
    "        #clear gradients\n",
    "        optimizer.zero_grad()\n",
    "        # fp\n",
    "        outputs = model(train)\n",
    "        # loss function\n",
    "        loss = criterion(outputs, labels)\n",
    "        # bp\n",
    "        loss.backward()\n",
    "        # update\n",
    "        optimizer.step()\n",
    "        count += 1\n",
    "\n",
    "        if count % 50 == 0:\n",
    "            correct = 0\n",
    "            total = 0\n",
    "            # iterate through test set\n",
    "            for images, labels in test_loader:\n",
    "                test = Variable(images.view(100, 1, 28, 28))\n",
    "\n",
    "                outputs = model(test)\n",
    "\n",
    "                predicted = torch.max(outputs.data, 1)[1]\n",
    "\n",
    "                total += len(labels)\n",
    "\n",
    "                correct += (predicted == labels).sum()\n",
    "\n",
    "            acc = 100 * correct / float(total)\n",
    "\n",
    "            loss_list.append(loss.data)\n",
    "            iterations.append(epoch)\n",
    "            accuracy.append(acc)\n",
    "        if count % 500 == 0:\n",
    "            print('iteration {} loss {} accuracy {}'.format(count, loss.data, acc))\n"
   ],
   "metadata": {
    "collapsed": false,
    "pycharm": {
     "name": "#%%\n"
    }
   }
  }
 ],
 "metadata": {
  "kernelspec": {
   "name": "pycharm-301d774e",
   "language": "python",
   "display_name": "PyCharm (API_Mini_Project)"
  },
  "language_info": {
   "codemirror_mode": {
    "name": "ipython",
    "version": 2
   },
   "file_extension": ".py",
   "mimetype": "text/x-python",
   "name": "python",
   "nbconvert_exporter": "python",
   "pygments_lexer": "ipython2",
   "version": "2.7.6"
  }
 },
 "nbformat": 4,
 "nbformat_minor": 0
}