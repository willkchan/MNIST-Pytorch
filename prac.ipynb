{
 "cells": [
  {
   "cell_type": "markdown",
   "metadata": {
    "collapsed": true,
    "pycharm": {
     "name": "#%% md\n"
    }
   },
   "source": [
    "# Practice using linear regression with pytorch"
   ]
  },
  {
   "cell_type": "code",
   "execution_count": 28,
   "outputs": [],
   "source": [
    "import torch\n",
    "import torch.nn as nn\n",
    "import numpy as np\n",
    "from torch.autograd import Variable\n",
    "\n",
    "import warnings\n",
    "warnings.filterwarnings('ignore')\n",
    "\n",
    "import matplotlib.pyplot as plt"
   ],
   "metadata": {
    "collapsed": false,
    "pycharm": {
     "name": "#%%\n"
    }
   }
  },
  {
   "cell_type": "code",
   "execution_count": 29,
   "outputs": [
    {
     "data": {
      "text/plain": "array([[3.],\n       [4.],\n       [5.],\n       [6.],\n       [7.],\n       [8.],\n       [9.]], dtype=float32)"
     },
     "execution_count": 29,
     "metadata": {},
     "output_type": "execute_result"
    }
   ],
   "source": [
    "car_prices = np.linspace(3, 9, 7)\n",
    "car_prices = car_prices.astype(np.float32)\n",
    "car_prices = car_prices.reshape(-1, 1)\n",
    "car_prices"
   ],
   "metadata": {
    "collapsed": false,
    "pycharm": {
     "name": "#%%\n"
    }
   }
  },
  {
   "cell_type": "code",
   "execution_count": 30,
   "outputs": [
    {
     "data": {
      "text/plain": "array([[7.5],\n       [7. ],\n       [6.5],\n       [6. ],\n       [5.5],\n       [5. ],\n       [4.5]], dtype=float32)"
     },
     "execution_count": 30,
     "metadata": {},
     "output_type": "execute_result"
    }
   ],
   "source": [
    "car_sell = np.array([7.5, 7, 6.5, 6, 5.5, 5.0, 4.5])\n",
    "car_sell = car_sell.astype(np.float32)\n",
    "car_sell = car_sell.reshape(-1,1)\n",
    "car_sell"
   ],
   "metadata": {
    "collapsed": false,
    "pycharm": {
     "name": "#%%\n"
    }
   }
  },
  {
   "cell_type": "code",
   "execution_count": 31,
   "outputs": [
    {
     "data": {
      "text/plain": "(tensor([[3.],\n         [4.],\n         [5.],\n         [6.],\n         [7.],\n         [8.],\n         [9.]]),\n tensor([[7.5000],\n         [7.0000],\n         [6.5000],\n         [6.0000],\n         [5.5000],\n         [5.0000],\n         [4.5000]]))"
     },
     "execution_count": 31,
     "metadata": {},
     "output_type": "execute_result"
    }
   ],
   "source": [
    "car_prices_tensor = Variable(torch.from_numpy(car_prices))\n",
    "car_sell_tensor = Variable(torch.from_numpy(car_sell))\n",
    "\n",
    "car_prices_tensor, car_sell_tensor"
   ],
   "metadata": {
    "collapsed": false,
    "pycharm": {
     "name": "#%%\n"
    }
   }
  },
  {
   "cell_type": "code",
   "execution_count": 32,
   "outputs": [],
   "source": [
    "# create LinReg class\n",
    "class LinearRegression(nn.Module):\n",
    "    def __init__(self,input_size,output_size):\n",
    "        super(LinearRegression, self).__init__()\n",
    "        self.linear = nn.Linear(input_dim, output_dim)\n",
    "\n",
    "    def forward(self,x):\n",
    "        return self.linear(x)\n",
    "\n",
    "input_dim = 1\n",
    "output_dim = 1\n",
    "# input and output size are 1\n",
    "# define model\n",
    "model = LinearRegression(input_dim, output_dim)"
   ],
   "metadata": {
    "collapsed": false,
    "pycharm": {
     "name": "#%%\n"
    }
   }
  },
  {
   "cell_type": "code",
   "execution_count": 33,
   "outputs": [],
   "source": [
    "# mse our loss function\n",
    "mse = nn.MSELoss()\n",
    "\n",
    "# optimizer (find parameters that minimizes error)\n",
    "learning_rate = 0.02 # how fast we reach best params\n",
    "optimizer = torch.optim.SGD(model.parameters(), lr=learning_rate) #stoch grad desc"
   ],
   "metadata": {
    "collapsed": false,
    "pycharm": {
     "name": "#%%\n"
    }
   }
  },
  {
   "cell_type": "code",
   "execution_count": 36,
   "outputs": [
    {
     "name": "stdout",
     "output_type": "stream",
     "text": [
      "epoch 0, loss 9.02064323425293\n",
      "epoch 50, loss 5.5140252113342285\n",
      "epoch 100, loss 3.726057529449463\n",
      "epoch 150, loss 2.517852544784546\n",
      "epoch 200, loss 1.7014185190200806\n",
      "epoch 250, loss 1.14971923828125\n",
      "epoch 300, loss 0.7769138216972351\n",
      "epoch 350, loss 0.5249937772750854\n",
      "epoch 400, loss 0.35475948452949524\n",
      "epoch 450, loss 0.23972579836845398\n",
      "epoch 500, loss 0.16199277341365814\n",
      "epoch 550, loss 0.10946550220251083\n",
      "epoch 600, loss 0.0739709734916687\n",
      "epoch 650, loss 0.04998552426695824\n",
      "epoch 700, loss 0.03377746418118477\n",
      "epoch 750, loss 0.022825157269835472\n",
      "epoch 800, loss 0.015423761680722237\n",
      "epoch 850, loss 0.010422435589134693\n",
      "epoch 900, loss 0.007042969111353159\n",
      "epoch 950, loss 0.004759255331009626\n",
      "epoch 1000, loss 0.003216132987290621\n"
     ]
    }
   ],
   "source": [
    "# train our model\n",
    "\n",
    "loss_list = []\n",
    "iterations = 1001\n",
    "for iter in range(iterations):\n",
    "\n",
    "    #optimization\n",
    "    optimizer.zero_grad()\n",
    "\n",
    "    # FP\n",
    "    results = model(car_prices_tensor)\n",
    "\n",
    "    # loss funciton\n",
    "    loss = mse(results, car_sell_tensor)\n",
    "\n",
    "    # BP\n",
    "    loss.backward()\n",
    "\n",
    "    # update parameters or weights\n",
    "    optimizer.step()\n",
    "\n",
    "    # store loss\n",
    "    loss_list.append(loss.data)\n",
    "\n",
    "    if(iter % 50 ==  0):\n",
    "        print('epoch {}, loss {}'.format(iter, loss.data))"
   ],
   "metadata": {
    "collapsed": false,
    "pycharm": {
     "name": "#%%\n"
    }
   }
  },
  {
   "cell_type": "markdown",
   "source": [
    "* This loop runs 1001 times and we print out the loss in each epoch\n",
    "* Also at end we know have our trained model and can use for prediction"
   ],
   "metadata": {
    "collapsed": false,
    "pycharm": {
     "name": "#%% md\n"
    }
   }
  },
  {
   "cell_type": "code",
   "execution_count": 40,
   "outputs": [
    {
     "data": {
      "text/plain": "<matplotlib.legend.Legend at 0x7fe4d12d6940>"
     },
     "execution_count": 40,
     "metadata": {},
     "output_type": "execute_result"
    },
    {
     "data": {
      "text/plain": "<Figure size 432x288 with 1 Axes>",
      "image/png": "[encoded data removed]"
     },
     "metadata": {
      "needs_background": "light"
     },
     "output_type": "display_data"
    }
   ],
   "source": [
    "#predict car price\n",
    "predicted = model(car_prices_tensor).data.numpy()\n",
    "\n",
    "plt.scatter(car_prices, car_sell, label='original')\n",
    "\n",
    "plt.scatter(car_prices, predicted, label='predicted')\n",
    "plt.legend()"
   ],
   "metadata": {
    "collapsed": false,
    "pycharm": {
     "name": "#%%\n"
    }
   }
  }
 ],
 "metadata": {
  "kernelspec": {
   "name": "pycharm-301d774e",
   "language": "python",
   "display_name": "PyCharm (API_Mini_Project)"
  },
  "language_info": {
   "codemirror_mode": {
    "name": "ipython",
    "version": 2
   },
   "file_extension": ".py",
   "mimetype": "text/x-python",
   "name": "python",
   "nbconvert_exporter": "python",
   "pygments_lexer": "ipython2",
   "version": "2.7.6"
  }
 },
 "nbformat": 4,
 "nbformat_minor": 0
}